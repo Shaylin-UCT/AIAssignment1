{
 "cells": [
  {
   "attachments": {},
   "cell_type": "markdown",
   "id": "22ed4f53",
   "metadata": {},
   "source": [
    "# Predicting ship collisions in the arctic sea"
   ]
  },
  {
   "cell_type": "code",
   "execution_count": 180,
   "id": "24dd28e3",
   "metadata": {},
   "outputs": [],
   "source": [
    "#Import Libraries\n",
    "import pyAgrum as gum\n",
    "import pyAgrum.lib.notebook as gnb\n",
    "import pyAgrum.lib.image as gumimage\n",
    "import itertools\n"
   ]
  },
  {
   "attachments": {},
   "cell_type": "markdown",
   "id": "d426a310",
   "metadata": {},
   "source": [
    "**Regarding the function below**<br>\n",
    "The getIterations function takes in an array of items that would be the inputs to the \"or\" gate in the Fault Tree, The variable that would be the output to the fault tree and then the decision network itself"
   ]
  },
  {
   "cell_type": "code",
   "execution_count": 181,
   "id": "9b78757a",
   "metadata": {},
   "outputs": [],
   "source": [
    "#Helper methods\n",
    "def count(items):\n",
    "    num = 0\n",
    "    for i in items:\n",
    "        if i == 1:\n",
    "            num = num+1\n",
    "    if num<len(items)/2: #Check if should be < or <=\n",
    "        return True\n",
    "    else:\n",
    "        return False\n",
    "\n",
    "def getIterations(vars, mainVariable, dn):\n",
    "    lst = list(itertools.product([0, 1], repeat=len(vars)))\n",
    "    items = {}\n",
    "    for i in lst:\n",
    "        for j in range(len(vars)):\n",
    "            items[vars[j]] = i[j]\n",
    "        #print(items)\n",
    "        if count(i):\n",
    "            #print(\"Method insert for\", mainVariable, \"dictionary is\", items, \"with probabilities [1,0]\")\n",
    "            dn.cpt(mainVariable)[items] = [1, 0]\n",
    "        else:\n",
    "            #print(\"Method insert for\",mainVariable, \"dictionary is\", items, \"with probabilities [0,1]\")\n",
    "            dn.cpt(mainVariable)[items] = [0, 1]"
   ]
  },
  {
   "attachments": {},
   "cell_type": "markdown",
   "id": "59c56055",
   "metadata": {},
   "source": [
    "# Construction"
   ]
  },
  {
   "attachments": {},
   "cell_type": "markdown",
   "id": "43436a70",
   "metadata": {},
   "source": [
    "## Define Nodes"
   ]
  },
  {
   "cell_type": "code",
   "execution_count": 182,
   "id": "1fee20a8",
   "metadata": {},
   "outputs": [
    {
     "data": {
      "text/html": [
       "<svg xmlns=\"http://www.w3.org/2000/svg\" xmlns:xlink=\"http://www.w3.org/1999/xlink\" width=\"432pt\" height=\"6pt\" viewBox=\"0.00 0.00 432.00 5.76\">\n",
       "<g id=\"graph0\" class=\"graph\" transform=\"scale(0.104026 0.104026) rotate(0) translate(4 51.36)\">\n",
       "<title>G</title>\n",
       "<!-- RadarFailure -->\n",
       "<g id=\"node1\" class=\"node\">\n",
       "<title>RadarFailure</title>\n",
       "<ellipse fill=\"#808080\" stroke=\"black\" cx=\"60.81\" cy=\"-23.68\" rx=\"60.62\" ry=\"20.51\"/>\n",
       "<text text-anchor=\"middle\" x=\"60.81\" y=\"-19.98\" font-family=\"Times New Roman,serif\" font-size=\"14.00\" fill=\"white\">RadarFailure</text>\n",
       "</g>\n",
       "<!-- Fog -->\n",
       "<g id=\"node2\" class=\"node\">\n",
       "<title>Fog</title>\n",
       "<ellipse fill=\"#808080\" stroke=\"black\" cx=\"166.81\" cy=\"-23.68\" rx=\"27\" ry=\"20.51\"/>\n",
       "<text text-anchor=\"middle\" x=\"166.81\" y=\"-19.98\" font-family=\"Times New Roman,serif\" font-size=\"14.00\" fill=\"white\">Fog</text>\n",
       "</g>\n",
       "<!-- EnvironmentalObstacles -->\n",
       "<g id=\"node3\" class=\"node\">\n",
       "<title>EnvironmentalObstacles</title>\n",
       "<ellipse fill=\"#808080\" stroke=\"black\" cx=\"317.81\" cy=\"-23.68\" rx=\"106.13\" ry=\"20.51\"/>\n",
       "<text text-anchor=\"middle\" x=\"317.81\" y=\"-19.98\" font-family=\"Times New Roman,serif\" font-size=\"14.00\" fill=\"white\">EnvironmentalObstacles</text>\n",
       "</g>\n",
       "<!-- Visibility -->\n",
       "<g id=\"node4\" class=\"node\">\n",
       "<title>Visibility</title>\n",
       "<ellipse fill=\"#808080\" stroke=\"black\" cx=\"486.81\" cy=\"-23.68\" rx=\"44.6\" ry=\"20.51\"/>\n",
       "<text text-anchor=\"middle\" x=\"486.81\" y=\"-19.98\" font-family=\"Times New Roman,serif\" font-size=\"14.00\" fill=\"white\">Visibility</text>\n",
       "</g>\n",
       "<!-- HighSpeed -->\n",
       "<g id=\"node5\" class=\"node\">\n",
       "<title>HighSpeed</title>\n",
       "<ellipse fill=\"#808080\" stroke=\"black\" cx=\"602.81\" cy=\"-23.68\" rx=\"53.98\" ry=\"20.51\"/>\n",
       "<text text-anchor=\"middle\" x=\"602.81\" y=\"-19.98\" font-family=\"Times New Roman,serif\" font-size=\"14.00\" fill=\"white\">HighSpeed</text>\n",
       "</g>\n",
       "<!-- HumanFactor -->\n",
       "<g id=\"node6\" class=\"node\">\n",
       "<title>HumanFactor</title>\n",
       "<ellipse fill=\"#808080\" stroke=\"black\" cx=\"738.81\" cy=\"-23.68\" rx=\"64.19\" ry=\"20.51\"/>\n",
       "<text text-anchor=\"middle\" x=\"738.81\" y=\"-19.98\" font-family=\"Times New Roman,serif\" font-size=\"14.00\" fill=\"white\">HumanFactor</text>\n",
       "</g>\n",
       "<!-- Navigation -->\n",
       "<g id=\"node7\" class=\"node\">\n",
       "<title>Navigation</title>\n",
       "<ellipse fill=\"#808080\" stroke=\"black\" cx=\"873.81\" cy=\"-23.68\" rx=\"52.15\" ry=\"20.51\"/>\n",
       "<text text-anchor=\"middle\" x=\"873.81\" y=\"-19.98\" font-family=\"Times New Roman,serif\" font-size=\"14.00\" fill=\"white\">Navigation</text>\n",
       "</g>\n",
       "<!-- EquipmentError -->\n",
       "<g id=\"node8\" class=\"node\">\n",
       "<title>EquipmentError</title>\n",
       "<ellipse fill=\"#808080\" stroke=\"black\" cx=\"1017.81\" cy=\"-23.68\" rx=\"73.58\" ry=\"20.51\"/>\n",
       "<text text-anchor=\"middle\" x=\"1017.81\" y=\"-19.98\" font-family=\"Times New Roman,serif\" font-size=\"14.00\" fill=\"white\">EquipmentError</text>\n",
       "</g>\n",
       "<!-- DetectionFailure -->\n",
       "<g id=\"node9\" class=\"node\">\n",
       "<title>DetectionFailure</title>\n",
       "<ellipse fill=\"#808080\" stroke=\"black\" cx=\"1183.81\" cy=\"-23.68\" rx=\"74.49\" ry=\"20.51\"/>\n",
       "<text text-anchor=\"middle\" x=\"1183.81\" y=\"-19.98\" font-family=\"Times New Roman,serif\" font-size=\"14.00\" fill=\"white\">DetectionFailure</text>\n",
       "</g>\n",
       "<!-- RidgeIceAndIceberg -->\n",
       "<g id=\"node10\" class=\"node\">\n",
       "<title>RidgeIceAndIceberg</title>\n",
       "<ellipse fill=\"#808080\" stroke=\"black\" cx=\"1368.81\" cy=\"-23.68\" rx=\"92.76\" ry=\"20.51\"/>\n",
       "<text text-anchor=\"middle\" x=\"1368.81\" y=\"-19.98\" font-family=\"Times New Roman,serif\" font-size=\"14.00\" fill=\"white\">RidgeIceAndIceberg</text>\n",
       "</g>\n",
       "<!-- PackIce -->\n",
       "<g id=\"node11\" class=\"node\">\n",
       "<title>PackIce</title>\n",
       "<ellipse fill=\"#808080\" stroke=\"black\" cx=\"1521.81\" cy=\"-23.68\" rx=\"42.35\" ry=\"20.51\"/>\n",
       "<text text-anchor=\"middle\" x=\"1521.81\" y=\"-19.98\" font-family=\"Times New Roman,serif\" font-size=\"14.00\" fill=\"white\">PackIce</text>\n",
       "</g>\n",
       "<!-- HighWind -->\n",
       "<g id=\"node12\" class=\"node\">\n",
       "<title>HighWind</title>\n",
       "<ellipse fill=\"#808080\" stroke=\"black\" cx=\"1632.81\" cy=\"-23.68\" rx=\"50.82\" ry=\"20.51\"/>\n",
       "<text text-anchor=\"middle\" x=\"1632.81\" y=\"-19.98\" font-family=\"Times New Roman,serif\" font-size=\"14.00\" fill=\"white\">HighWind</text>\n",
       "</g>\n",
       "<!-- Wave -->\n",
       "<g id=\"node13\" class=\"node\">\n",
       "<title>Wave</title>\n",
       "<ellipse fill=\"#808080\" stroke=\"black\" cx=\"1734.81\" cy=\"-23.68\" rx=\"33.47\" ry=\"20.51\"/>\n",
       "<text text-anchor=\"middle\" x=\"1734.81\" y=\"-19.98\" font-family=\"Times New Roman,serif\" font-size=\"14.00\" fill=\"white\">Wave</text>\n",
       "</g>\n",
       "<!-- PackIceEffect -->\n",
       "<g id=\"node14\" class=\"node\">\n",
       "<title>PackIceEffect</title>\n",
       "<ellipse fill=\"#808080\" stroke=\"black\" cx=\"1851.81\" cy=\"-23.68\" rx=\"65.52\" ry=\"20.51\"/>\n",
       "<text text-anchor=\"middle\" x=\"1851.81\" y=\"-19.98\" font-family=\"Times New Roman,serif\" font-size=\"14.00\" fill=\"white\">PackIceEffect</text>\n",
       "</g>\n",
       "<!-- NondetectedMultiLayerIce -->\n",
       "<g id=\"node15\" class=\"node\">\n",
       "<title>NondetectedMultiLayerIce</title>\n",
       "<ellipse fill=\"#808080\" stroke=\"black\" cx=\"2050.81\" cy=\"-23.68\" rx=\"115.02\" ry=\"20.51\"/>\n",
       "<text text-anchor=\"middle\" x=\"2050.81\" y=\"-19.98\" font-family=\"Times New Roman,serif\" font-size=\"14.00\" fill=\"white\">NondetectedMultiLayerIce</text>\n",
       "</g>\n",
       "<!-- RidgeIceAndIcebergEffect -->\n",
       "<g id=\"node16\" class=\"node\">\n",
       "<title>RidgeIceAndIcebergEffect</title>\n",
       "<ellipse fill=\"#808080\" stroke=\"black\" cx=\"2300.81\" cy=\"-23.68\" rx=\"116.85\" ry=\"20.51\"/>\n",
       "<text text-anchor=\"middle\" x=\"2300.81\" y=\"-19.98\" font-family=\"Times New Roman,serif\" font-size=\"14.00\" fill=\"white\">RidgeIceAndIcebergEffect</text>\n",
       "</g>\n",
       "<!-- WaveEffect -->\n",
       "<g id=\"node17\" class=\"node\">\n",
       "<title>WaveEffect</title>\n",
       "<ellipse fill=\"#808080\" stroke=\"black\" cx=\"2492.81\" cy=\"-23.68\" rx=\"57.05\" ry=\"20.51\"/>\n",
       "<text text-anchor=\"middle\" x=\"2492.81\" y=\"-19.98\" font-family=\"Times New Roman,serif\" font-size=\"14.00\" fill=\"white\">WaveEffect</text>\n",
       "</g>\n",
       "<!-- FaultOfOtherVessels -->\n",
       "<g id=\"node18\" class=\"node\">\n",
       "<title>FaultOfOtherVessels</title>\n",
       "<ellipse fill=\"#808080\" stroke=\"black\" cx=\"2661.81\" cy=\"-23.68\" rx=\"93.18\" ry=\"20.51\"/>\n",
       "<text text-anchor=\"middle\" x=\"2661.81\" y=\"-19.98\" font-family=\"Times New Roman,serif\" font-size=\"14.00\" fill=\"white\">FaultOfOtherVessels</text>\n",
       "</g>\n",
       "<!-- IceBreakersFailure -->\n",
       "<g id=\"node19\" class=\"node\">\n",
       "<title>IceBreakersFailure</title>\n",
       "<ellipse fill=\"#808080\" stroke=\"black\" cx=\"2856.81\" cy=\"-23.68\" rx=\"83.38\" ry=\"20.51\"/>\n",
       "<text text-anchor=\"middle\" x=\"2856.81\" y=\"-19.98\" font-family=\"Times New Roman,serif\" font-size=\"14.00\" fill=\"white\">IceBreakersFailure</text>\n",
       "</g>\n",
       "<!-- DangerousIceCondition -->\n",
       "<g id=\"node20\" class=\"node\">\n",
       "<title>DangerousIceCondition</title>\n",
       "<ellipse fill=\"#808080\" stroke=\"black\" cx=\"3061.81\" cy=\"-23.68\" rx=\"103.89\" ry=\"20.51\"/>\n",
       "<text text-anchor=\"middle\" x=\"3061.81\" y=\"-19.98\" font-family=\"Times New Roman,serif\" font-size=\"14.00\" fill=\"white\">DangerousIceCondition</text>\n",
       "</g>\n",
       "<!-- TypeOfExpedition -->\n",
       "<g id=\"node21\" class=\"node\">\n",
       "<title>TypeOfExpedition</title>\n",
       "<ellipse fill=\"#808080\" stroke=\"black\" cx=\"3267.81\" cy=\"-23.68\" rx=\"84.29\" ry=\"20.51\"/>\n",
       "<text text-anchor=\"middle\" x=\"3267.81\" y=\"-19.98\" font-family=\"Times New Roman,serif\" font-size=\"14.00\" fill=\"white\">TypeOfExpedition</text>\n",
       "</g>\n",
       "<!-- EnvironmentalOperationalEffects -->\n",
       "<g id=\"node22\" class=\"node\">\n",
       "<title>EnvironmentalOperationalEffects</title>\n",
       "<ellipse fill=\"#808080\" stroke=\"black\" cx=\"3509.81\" cy=\"-23.68\" rx=\"140.01\" ry=\"20.51\"/>\n",
       "<text text-anchor=\"middle\" x=\"3509.81\" y=\"-19.98\" font-family=\"Times New Roman,serif\" font-size=\"14.00\" fill=\"white\">EnvironmentalOperationalEffects</text>\n",
       "</g>\n",
       "<!-- PotentialObstacles -->\n",
       "<g id=\"node23\" class=\"node\">\n",
       "<title>PotentialObstacles</title>\n",
       "<ellipse fill=\"#808080\" stroke=\"black\" cx=\"3750.81\" cy=\"-23.68\" rx=\"83.38\" ry=\"20.51\"/>\n",
       "<text text-anchor=\"middle\" x=\"3750.81\" y=\"-19.98\" font-family=\"Times New Roman,serif\" font-size=\"14.00\" fill=\"white\">PotentialObstacles</text>\n",
       "</g>\n",
       "<!-- Collision -->\n",
       "<g id=\"node24\" class=\"node\">\n",
       "<title>Collision</title>\n",
       "<ellipse fill=\"#808080\" stroke=\"black\" cx=\"3897.81\" cy=\"-23.68\" rx=\"45.01\" ry=\"20.51\"/>\n",
       "<text text-anchor=\"middle\" x=\"3897.81\" y=\"-19.98\" font-family=\"Times New Roman,serif\" font-size=\"14.00\" fill=\"white\">Collision</text>\n",
       "</g>\n",
       "<!-- PermitExpedition -->\n",
       "<g id=\"node25\" class=\"node\">\n",
       "<title>PermitExpedition</title>\n",
       "<polygon fill=\"#9a5050\" stroke=\"black\" points=\"4072.31,-38.18 3961.31,-38.18 3961.31,-9.18 4072.31,-9.18 4072.31,-38.18\"/>\n",
       "<text text-anchor=\"middle\" x=\"4016.81\" y=\"-19.98\" font-family=\"Times New Roman,serif\" font-size=\"14.00\" fill=\"white\">PermitExpedition</text>\n",
       "</g>\n",
       "<!-- U -->\n",
       "<g id=\"node26\" class=\"node\">\n",
       "<title>U</title>\n",
       "<polygon fill=\"#50508a\" stroke=\"black\" points=\"4144.81,-23.68 4131.31,-47.54 4104.31,-47.54 4090.81,-23.68 4104.31,0.18 4131.31,0.18 4144.81,-23.68\"/>\n",
       "<text text-anchor=\"middle\" x=\"4117.81\" y=\"-19.98\" font-family=\"Times New Roman,serif\" font-size=\"14.00\" fill=\"white\">U</text>\n",
       "</g>\n",
       "</g>\n",
       "</svg>"
      ],
      "text/plain": [
       "(pyAgrum.InfluenceDiagram<double>@000002A2010358D0) Influence Diagram{\n",
       "  chance: 24,\n",
       "  utility: 1,\n",
       "  decision: 1,\n",
       "  arcs: 0,\n",
       "  domainSize: 10^7.52575\n",
       "}"
      ]
     },
     "execution_count": 182,
     "metadata": {},
     "output_type": "execute_result"
    }
   ],
   "source": [
    "#Define Nodes\n",
    "dn = gum.InfluenceDiagram()\n",
    "#Regular Nodes\n",
    "var_names = [\"RadarFailure\", \"Fog\", \"EnvironmentalObstacles\", \"Visibility\", \"HighSpeed\", \"HumanFactor\", \"Navigation\", \"EquipmentError\", \"DetectionFailure\", \n",
    "             \"RidgeIceAndIceberg\", \"PackIce\", \"HighWind\", \"Wave\", \"PackIceEffect\", \"NondetectedMultiLayerIce\", \"RidgeIceAndIcebergEffect\", \"WaveEffect\", \n",
    "             \"FaultOfOtherVessels\", \"IceBreakersFailure\", \"DangerousIceCondition\", \"TypeOfExpedition\", \"EnvironmentalOperationalEffects\", \"PotentialObstacles\", \"Collision\"]\n",
    "\n",
    "radarfailure, fog, environmentalobstacles, visibility, highspeed, humanfactor, navigation, equipmenterror, detectionfailure, ridgeiceandiceberg, packice, highwind, wave, packiceeffect, nondetectedmultilayerice, ridgeiceandicebergeffect, waveeffect, faultofothervessels, icebreakersfailure, dangerousicecondition, typeofexpedition, environmentaloperationaleffects, potentialobstacles, collision = [dn.add(gum.LabelizedVariable(name, name, 2)) for name in var_names]\n",
    "#Decision Node\n",
    "permit = dn.addDecisionNode(gum.LabelizedVariable(\"PermitExpedition\", \"PermitExpedition\", 2))\n",
    "#Utility Node\n",
    "u = dn.addUtilityNode(gum.LabelizedVariable(\"U\", \"U\", 1))\n",
    "dn"
   ]
  },
  {
   "attachments": {},
   "cell_type": "markdown",
   "id": "a06eb490",
   "metadata": {},
   "source": [
    "## Arcs"
   ]
  },
  {
   "attachments": {},
   "cell_type": "markdown",
   "id": "49be7f5d",
   "metadata": {},
   "source": [
    "Add in Arcs"
   ]
  },
  {
   "cell_type": "code",
   "execution_count": 183,
   "id": "ec730d3c",
   "metadata": {},
   "outputs": [],
   "source": [
    "dn.addArc(radarfailure, visibility)\n",
    "dn.addArc(fog, visibility)\n",
    "dn.addArc(environmentalobstacles, visibility)\n",
    "dn.addArc(humanfactor, visibility)\n",
    "dn.addArc(highspeed, navigation)\n",
    "dn.addArc(humanfactor, navigation)\n",
    "dn.addArc(equipmenterror, navigation)\n",
    "dn.addArc(equipmenterror, detectionfailure)\n",
    "dn.addArc(detectionfailure, ridgeiceandicebergeffect)\n",
    "dn.addArc(ridgeiceandiceberg, ridgeiceandicebergeffect)\n",
    "dn.addArc(packice, packiceeffect)\n",
    "dn.addArc(highwind, packiceeffect)\n",
    "dn.addArc(highwind, waveeffect)\n",
    "dn.addArc(wave, waveeffect)\n",
    "dn.addArc(packiceeffect, dangerousicecondition)\n",
    "dn.addArc(nondetectedmultilayerice, dangerousicecondition)\n",
    "dn.addArc(ridgeiceandicebergeffect, dangerousicecondition)\n",
    "dn.addArc(waveeffect, environmentaloperationaleffects)\n",
    "dn.addArc(navigation, environmentaloperationaleffects)\n",
    "dn.addArc(visibility, environmentaloperationaleffects)\n",
    "dn.addArc(faultofothervessels, potentialobstacles)\n",
    "dn.addArc(icebreakersfailure, potentialobstacles)\n",
    "dn.addArc(dangerousicecondition, potentialobstacles)\n",
    "dn.addArc(environmentaloperationaleffects, collision)\n",
    "dn.addArc(potentialobstacles, collision)\n",
    "dn.addArc(typeofexpedition, permit)\n",
    "dn.addArc(permit, u)\n",
    "dn.addArc(collision, u)\n",
    "gumimage.export(dn,\"test_export.png\")"
   ]
  },
  {
   "attachments": {},
   "cell_type": "markdown",
   "id": "484c9899",
   "metadata": {},
   "source": [
    "## CPTs\n"
   ]
  },
  {
   "attachments": {},
   "cell_type": "markdown",
   "id": "4a35306d",
   "metadata": {},
   "source": [
    "Add in CPT <br>\n",
    "Note: for \"or\" gates: B0 = B1+B2 <br>\n",
    "Note: for \"and\" gates: B0 = B1*B2\n"
   ]
  },
  {
   "cell_type": "markdown",
   "id": "69fdbf1b",
   "metadata": {},
   "source": [
    "For \"Navigation\" Effect I used the idea from this paper (https://reader.elsevier.com/reader/sd/pii/S0951832000000776?token=26EF05B58BEE12E1BFA7AF8C03ADFFF4715762438DDD0922D73E499AD84F80A194F925EA79A8B74025BECAE7F242470D&originRegion=eu-west-1&originCreation=20230504070556) as all gates represent causal relationships - therefore either true or false"
   ]
  },
  {
   "cell_type": "code",
   "execution_count": 184,
   "id": "93825053",
   "metadata": {},
   "outputs": [
    {
     "data": {
      "text/html": [
       "<table style=\"border:1px solid black;\">\n",
       "<tr><th colspan='3'></th>\n",
       "      <th colspan='2' style='border:1px solid black;color:black;background-color:#808080;'><center>Navigation</center>\n",
       "      </th></tr>\n",
       "<tr><th style='border:1px solid black;color:black;background-color:#808080'><center>EquipmentError</center></th><th style='border:1px solid black;color:black;background-color:#808080'><center>HumanFactor</center></th><th style='border:1px solid black;color:black;background-color:#808080'><center>HighSpeed</center></th><th style='border:1px solid black;border-bottom-style: double;color:black;background-color:#BBBBBB'>\n",
       "      <center>0</center></th><th style='border:1px solid black;border-bottom-style: double;color:black;background-color:#BBBBBB'>\n",
       "      <center>1</center></th></tr>\n",
       "<tr><th style='border:1px solid black;color:black;background-color:#BBBBBB;' rowspan = '4'>\n",
       "            <center>0</center></th><th style='border:1px solid black;color:black;background-color:#BBBBBB;' rowspan = '2'>\n",
       "            <center>0</center></th><th style='border:1px solid black;color:black;background-color:#BBBBBB'><center>0</center></th><td style='color:black;background-color:#7fff64;text-align:right;'>1.0000</td><td style='color:black;background-color:#ff7f64;text-align:right;'>0.0000</td></tr>\n",
       "<tr><th style='border:1px solid black;color:black;background-color:#BBBBBB'><center>1</center></th><td style='color:black;background-color:#7fff64;text-align:right;'>1.0000</td><td style='color:black;background-color:#ff7f64;text-align:right;'>0.0000</td></tr>\n",
       "<tr><th style='border:1px solid black;color:black;background-color:#BBBBBB;' rowspan = '2'>\n",
       "            <center>1</center></th><th style='border:1px solid black;color:black;background-color:#BBBBBB'><center>0</center></th><td style='color:black;background-color:#7fff64;text-align:right;'>1.0000</td><td style='color:black;background-color:#ff7f64;text-align:right;'>0.0000</td></tr>\n",
       "<tr><th style='border:1px solid black;color:black;background-color:#BBBBBB'><center>1</center></th><td style='color:black;background-color:#ff7f64;text-align:right;'>0.0000</td><td style='color:black;background-color:#7fff64;text-align:right;'>1.0000</td></tr>\n",
       "<tr><th style='border:1px solid black;color:black;background-color:#BBBBBB;' rowspan = '4'>\n",
       "            <center>1</center></th><th style='border:1px solid black;color:black;background-color:#BBBBBB;' rowspan = '2'>\n",
       "            <center>0</center></th><th style='border:1px solid black;color:black;background-color:#BBBBBB'><center>0</center></th><td style='color:black;background-color:#7fff64;text-align:right;'>1.0000</td><td style='color:black;background-color:#ff7f64;text-align:right;'>0.0000</td></tr>\n",
       "<tr><th style='border:1px solid black;color:black;background-color:#BBBBBB'><center>1</center></th><td style='color:black;background-color:#ff7f64;text-align:right;'>0.0000</td><td style='color:black;background-color:#7fff64;text-align:right;'>1.0000</td></tr>\n",
       "<tr><th style='border:1px solid black;color:black;background-color:#BBBBBB;' rowspan = '2'>\n",
       "            <center>1</center></th><th style='border:1px solid black;color:black;background-color:#BBBBBB'><center>0</center></th><td style='color:black;background-color:#ff7f64;text-align:right;'>0.0000</td><td style='color:black;background-color:#7fff64;text-align:right;'>1.0000</td></tr>\n",
       "<tr><th style='border:1px solid black;color:black;background-color:#BBBBBB'><center>1</center></th><td style='color:black;background-color:#ff7f64;text-align:right;'>0.0000</td><td style='color:black;background-color:#7fff64;text-align:right;'>1.0000</td></tr>\n",
       "</table>"
      ],
      "text/plain": [
       "(pyAgrum.Potential<double>@000002A2026B4450) \n",
       "                    ||  Navigation       |\n",
       "HighSp|HumanF|Equipm||0        |1        |\n",
       "------|------|------||---------|---------|\n",
       "0     |0     |0     || 1.0000  | 0.0000  |\n",
       "1     |0     |0     || 1.0000  | 0.0000  |\n",
       "0     |1     |0     || 1.0000  | 0.0000  |\n",
       "1     |1     |0     || 0.0000  | 1.0000  |\n",
       "0     |0     |1     || 1.0000  | 0.0000  |\n",
       "1     |0     |1     || 0.0000  | 1.0000  |\n",
       "0     |1     |1     || 0.0000  | 1.0000  |\n",
       "1     |1     |1     || 0.0000  | 1.0000  |"
      ]
     },
     "execution_count": 184,
     "metadata": {},
     "output_type": "execute_result"
    }
   ],
   "source": [
    "dn.cpt(\"HumanFactor\").fillWith([1-0.0076,0.0076])\n",
    "dn.cpt(\"HighSpeed\").fillWith([1-0.0068,0.0068])\n",
    "dn.cpt(\"EquipmentError\").fillWith([1-0.008563,0.008563])\n",
    "#Get Navigation\n",
    "vars = [\"HumanFactor\", \"HighSpeed\", \"EquipmentError\"]\n",
    "getIterations(vars, \"Navigation\", dn)\n",
    "dn.cpt(\"Navigation\")"
   ]
  },
  {
   "attachments": {},
   "cell_type": "markdown",
   "id": "f6b3e6bf",
   "metadata": {},
   "source": [
    "CPT for \"Visibility\""
   ]
  },
  {
   "cell_type": "code",
   "execution_count": 185,
   "id": "453d3982",
   "metadata": {},
   "outputs": [
    {
     "data": {
      "text/html": [
       "<table style=\"border:1px solid black;\">\n",
       "<tr><th colspan='4'></th>\n",
       "      <th colspan='2' style='border:1px solid black;color:black;background-color:#808080;'><center>Visibility</center>\n",
       "      </th></tr>\n",
       "<tr><th style='border:1px solid black;color:black;background-color:#808080'><center>HumanFactor</center></th><th style='border:1px solid black;color:black;background-color:#808080'><center>EnvironmentalObstacles</center></th><th style='border:1px solid black;color:black;background-color:#808080'><center>Fog</center></th><th style='border:1px solid black;color:black;background-color:#808080'><center>RadarFailure</center></th><th style='border:1px solid black;border-bottom-style: double;color:black;background-color:#BBBBBB'>\n",
       "      <center>0</center></th><th style='border:1px solid black;border-bottom-style: double;color:black;background-color:#BBBBBB'>\n",
       "      <center>1</center></th></tr>\n",
       "<tr><th style='border:1px solid black;color:black;background-color:#BBBBBB;' rowspan = '8'>\n",
       "            <center>0</center></th><th style='border:1px solid black;color:black;background-color:#BBBBBB;' rowspan = '4'>\n",
       "            <center>0</center></th><th style='border:1px solid black;color:black;background-color:#BBBBBB;' rowspan = '2'>\n",
       "            <center>0</center></th><th style='border:1px solid black;color:black;background-color:#BBBBBB'><center>0</center></th><td style='color:black;background-color:#7fff64;text-align:right;'>1.0000</td><td style='color:black;background-color:#ff7f64;text-align:right;'>0.0000</td></tr>\n",
       "<tr><th style='border:1px solid black;color:black;background-color:#BBBBBB'><center>1</center></th><td style='color:black;background-color:#7fff64;text-align:right;'>1.0000</td><td style='color:black;background-color:#ff7f64;text-align:right;'>0.0000</td></tr>\n",
       "<tr><th style='border:1px solid black;color:black;background-color:#BBBBBB;' rowspan = '2'>\n",
       "            <center>1</center></th><th style='border:1px solid black;color:black;background-color:#BBBBBB'><center>0</center></th><td style='color:black;background-color:#7fff64;text-align:right;'>1.0000</td><td style='color:black;background-color:#ff7f64;text-align:right;'>0.0000</td></tr>\n",
       "<tr><th style='border:1px solid black;color:black;background-color:#BBBBBB'><center>1</center></th><td style='color:black;background-color:#7fff64;text-align:right;'>1.0000</td><td style='color:black;background-color:#ff7f64;text-align:right;'>0.0000</td></tr>\n",
       "<tr><th style='border:1px solid black;color:black;background-color:#BBBBBB;' rowspan = '4'>\n",
       "            <center>1</center></th><th style='border:1px solid black;color:black;background-color:#BBBBBB;' rowspan = '2'>\n",
       "            <center>0</center></th><th style='border:1px solid black;color:black;background-color:#BBBBBB'><center>0</center></th><td style='color:black;background-color:#7fff64;text-align:right;'>1.0000</td><td style='color:black;background-color:#ff7f64;text-align:right;'>0.0000</td></tr>\n",
       "<tr><th style='border:1px solid black;color:black;background-color:#BBBBBB'><center>1</center></th><td style='color:black;background-color:#7fff64;text-align:right;'>1.0000</td><td style='color:black;background-color:#ff7f64;text-align:right;'>0.0000</td></tr>\n",
       "<tr><th style='border:1px solid black;color:black;background-color:#BBBBBB;' rowspan = '2'>\n",
       "            <center>1</center></th><th style='border:1px solid black;color:black;background-color:#BBBBBB'><center>0</center></th><td style='color:black;background-color:#7fff64;text-align:right;'>1.0000</td><td style='color:black;background-color:#ff7f64;text-align:right;'>0.0000</td></tr>\n",
       "<tr><th style='border:1px solid black;color:black;background-color:#BBBBBB'><center>1</center></th><td style='color:black;background-color:#ff7f64;text-align:right;'>0.0000</td><td style='color:black;background-color:#7fff64;text-align:right;'>1.0000</td></tr>\n",
       "<tr><th style='border:1px solid black;color:black;background-color:#BBBBBB;' rowspan = '8'>\n",
       "            <center>1</center></th><th style='border:1px solid black;color:black;background-color:#BBBBBB;' rowspan = '4'>\n",
       "            <center>0</center></th><th style='border:1px solid black;color:black;background-color:#BBBBBB;' rowspan = '2'>\n",
       "            <center>0</center></th><th style='border:1px solid black;color:black;background-color:#BBBBBB'><center>0</center></th><td style='color:black;background-color:#7fff64;text-align:right;'>1.0000</td><td style='color:black;background-color:#ff7f64;text-align:right;'>0.0000</td></tr>\n",
       "<tr><th style='border:1px solid black;color:black;background-color:#BBBBBB'><center>1</center></th><td style='color:black;background-color:#7fff64;text-align:right;'>1.0000</td><td style='color:black;background-color:#ff7f64;text-align:right;'>0.0000</td></tr>\n",
       "<tr><th style='border:1px solid black;color:black;background-color:#BBBBBB;' rowspan = '2'>\n",
       "            <center>1</center></th><th style='border:1px solid black;color:black;background-color:#BBBBBB'><center>0</center></th><td style='color:black;background-color:#7fff64;text-align:right;'>1.0000</td><td style='color:black;background-color:#ff7f64;text-align:right;'>0.0000</td></tr>\n",
       "<tr><th style='border:1px solid black;color:black;background-color:#BBBBBB'><center>1</center></th><td style='color:black;background-color:#ff7f64;text-align:right;'>0.0000</td><td style='color:black;background-color:#7fff64;text-align:right;'>1.0000</td></tr>\n",
       "<tr><th style='border:1px solid black;color:black;background-color:#BBBBBB;' rowspan = '4'>\n",
       "            <center>1</center></th><th style='border:1px solid black;color:black;background-color:#BBBBBB;' rowspan = '2'>\n",
       "            <center>0</center></th><th style='border:1px solid black;color:black;background-color:#BBBBBB'><center>0</center></th><td style='color:black;background-color:#7fff64;text-align:right;'>1.0000</td><td style='color:black;background-color:#ff7f64;text-align:right;'>0.0000</td></tr>\n",
       "<tr><th style='border:1px solid black;color:black;background-color:#BBBBBB'><center>1</center></th><td style='color:black;background-color:#ff7f64;text-align:right;'>0.0000</td><td style='color:black;background-color:#7fff64;text-align:right;'>1.0000</td></tr>\n",
       "<tr><th style='border:1px solid black;color:black;background-color:#BBBBBB;' rowspan = '2'>\n",
       "            <center>1</center></th><th style='border:1px solid black;color:black;background-color:#BBBBBB'><center>0</center></th><td style='color:black;background-color:#ff7f64;text-align:right;'>0.0000</td><td style='color:black;background-color:#7fff64;text-align:right;'>1.0000</td></tr>\n",
       "<tr><th style='border:1px solid black;color:black;background-color:#BBBBBB'><center>1</center></th><td style='color:black;background-color:#ff7f64;text-align:right;'>0.0000</td><td style='color:black;background-color:#7fff64;text-align:right;'>1.0000</td></tr>\n",
       "</table>"
      ],
      "text/plain": [
       "(pyAgrum.Potential<double>@000002A2026B3A30) \n",
       "                           ||  Visibility       |\n",
       "RadarF|Fog   |Enviro|HumanF||0        |1        |\n",
       "------|------|------|------||---------|---------|\n",
       "0     |0     |0     |0     || 1.0000  | 0.0000  |\n",
       "1     |0     |0     |0     || 1.0000  | 0.0000  |\n",
       "0     |1     |0     |0     || 1.0000  | 0.0000  |\n",
       "1     |1     |0     |0     || 1.0000  | 0.0000  |\n",
       "0     |0     |1     |0     || 1.0000  | 0.0000  |\n",
       "1     |0     |1     |0     || 1.0000  | 0.0000  |\n",
       "[...4 more line(s) ...]\n",
       "0     |1     |0     |1     || 1.0000  | 0.0000  |\n",
       "1     |1     |0     |1     || 0.0000  | 1.0000  |\n",
       "0     |0     |1     |1     || 1.0000  | 0.0000  |\n",
       "1     |0     |1     |1     || 0.0000  | 1.0000  |\n",
       "0     |1     |1     |1     || 0.0000  | 1.0000  |\n",
       "1     |1     |1     |1     || 0.0000  | 1.0000  |"
      ]
     },
     "execution_count": 185,
     "metadata": {},
     "output_type": "execute_result"
    }
   ],
   "source": [
    "#Visibility impacted by RadarFailure, HumanFactor, EnvironmentalOnstacles and Fog\n",
    "dn.cpt(\"RadarFailure\").fillWith([1-0.0234, 0.0234])\n",
    "dn.cpt(\"EnvironmentalObstacles\").fillWith([1-0.4, 0.4])\n",
    "dn.cpt(\"Fog\").fillWith([1-0.120500, 0.120500])\n",
    "vars = [\"HumanFactor\", \"Fog\", \"EnvironmentalObstacles\", \"RadarFailure\"]\n",
    "getIterations(vars, \"Visibility\", dn)\n",
    "dn.cpt(\"Visibility\")"
   ]
  },
  {
   "attachments": {},
   "cell_type": "markdown",
   "id": "dd30e7fb",
   "metadata": {},
   "source": [
    "CPT for \"WaveEffect\""
   ]
  },
  {
   "cell_type": "code",
   "execution_count": 186,
   "id": "b602babd",
   "metadata": {},
   "outputs": [
    {
     "data": {
      "text/html": [
       "<table style=\"border:1px solid black;\">\n",
       "<tr><th colspan='2'></th>\n",
       "      <th colspan='2' style='border:1px solid black;color:black;background-color:#808080;'><center>WaveEffect</center>\n",
       "      </th></tr>\n",
       "<tr><th style='border:1px solid black;color:black;background-color:#808080'><center>Wave</center></th><th style='border:1px solid black;color:black;background-color:#808080'><center>HighWind</center></th><th style='border:1px solid black;border-bottom-style: double;color:black;background-color:#BBBBBB'>\n",
       "      <center>0</center></th><th style='border:1px solid black;border-bottom-style: double;color:black;background-color:#BBBBBB'>\n",
       "      <center>1</center></th></tr>\n",
       "<tr><th style='border:1px solid black;color:black;background-color:#BBBBBB;' rowspan = '2'>\n",
       "            <center>0</center></th><th style='border:1px solid black;color:black;background-color:#BBBBBB'><center>0</center></th><td style='color:black;background-color:#7fff64;text-align:right;'>1.0000</td><td style='color:black;background-color:#ff7f64;text-align:right;'>0.0000</td></tr>\n",
       "<tr><th style='border:1px solid black;color:black;background-color:#BBBBBB'><center>1</center></th><td style='color:black;background-color:#7fff64;text-align:right;'>1.0000</td><td style='color:black;background-color:#ff7f64;text-align:right;'>0.0000</td></tr>\n",
       "<tr><th style='border:1px solid black;color:black;background-color:#BBBBBB;' rowspan = '2'>\n",
       "            <center>1</center></th><th style='border:1px solid black;color:black;background-color:#BBBBBB'><center>0</center></th><td style='color:black;background-color:#7fff64;text-align:right;'>1.0000</td><td style='color:black;background-color:#ff7f64;text-align:right;'>0.0000</td></tr>\n",
       "<tr><th style='border:1px solid black;color:black;background-color:#BBBBBB'><center>1</center></th><td style='color:black;background-color:#ff7f64;text-align:right;'>0.0000</td><td style='color:black;background-color:#7fff64;text-align:right;'>1.0000</td></tr>\n",
       "</table>"
      ],
      "text/plain": [
       "(pyAgrum.Potential<double>@000002A2026B47F0) \n",
       "             ||  WaveEffect       |\n",
       "HighWi|Wave  ||0        |1        |\n",
       "------|------||---------|---------|\n",
       "0     |0     || 1.0000  | 0.0000  |\n",
       "1     |0     || 1.0000  | 0.0000  |\n",
       "0     |1     || 1.0000  | 0.0000  |\n",
       "1     |1     || 0.0000  | 1.0000  |"
      ]
     },
     "execution_count": 186,
     "metadata": {},
     "output_type": "execute_result"
    }
   ],
   "source": [
    "dn.cpt(\"HighWind\").fillWith([1-0.0093, 0.0093])\n",
    "dn.cpt(\"Wave\").fillWith([1-0.00953, 0.00953])\n",
    "vars = [\"HighWind\", \"Wave\"]\n",
    "getIterations(vars, \"WaveEffect\", dn)\n",
    "dn.cpt(\"WaveEffect\")"
   ]
  }
 ],
 "metadata": {
  "kernelspec": {
   "display_name": "Python 3 (ipykernel)",
   "language": "python",
   "name": "python3"
  },
  "language_info": {
   "codemirror_mode": {
    "name": "ipython",
    "version": 3
   },
   "file_extension": ".py",
   "mimetype": "text/x-python",
   "name": "python",
   "nbconvert_exporter": "python",
   "pygments_lexer": "ipython3",
   "version": "3.11.3"
  }
 },
 "nbformat": 4,
 "nbformat_minor": 5
}
